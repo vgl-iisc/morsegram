{
 "cells": [
  {
   "cell_type": "code",
   "execution_count": 29,
   "metadata": {},
   "outputs": [],
   "source": [
    "import pandas as pd\n",
    "from sklearn.cluster import KMeans\n",
    "from sklearn.preprocessing import StandardScaler\n",
    "import matplotlib.pyplot as plt"
   ]
  },
  {
   "cell_type": "code",
   "execution_count": 30,
   "metadata": {},
   "outputs": [
    {
     "data": {
      "text/plain": [
       "(                           0         1         2         3         4  \\\n",
       " grain_3896334.vtp   5.022273  3.865872  3.354215  2.984807  2.757253   \n",
       " grain_2284889.vtp   2.725967  1.860510  1.562268  1.383338  1.234078   \n",
       " grain_1234271.vtp   7.092956  4.902486  4.231505  3.882635  3.624637   \n",
       " grain_1519566.vtp  10.450317  8.122624  7.155652  6.583602  6.063877   \n",
       " grain_2280919.vtp  12.390331  9.539618  8.420097  7.485782  6.848413   \n",
       " \n",
       "                           5         6         7         8  \n",
       " grain_3896334.vtp  2.580759  2.438835  2.321870  2.233408  \n",
       " grain_2284889.vtp  1.147330  1.077306  1.030948  0.972430  \n",
       " grain_1234271.vtp  3.403823  3.221512  3.042172  2.911218  \n",
       " grain_1519566.vtp  5.580395  5.325148  5.069662  4.873363  \n",
       " grain_2280919.vtp  6.418976  6.090514  5.819014  5.572099  ,\n",
       "      cp_id        volume  cn\n",
       " 0  3896334    689.946681   2\n",
       " 2  1234271   1666.127357   4\n",
       " 4  1519566   8269.200079   8\n",
       " 5  2280919  11284.377905   8\n",
       " 6  2132008   1892.932333   2,\n",
       " (6811, 9),\n",
       " (5935, 3))"
      ]
     },
     "execution_count": 30,
     "metadata": {},
     "output_type": "execute_result"
    }
   ],
   "source": [
    "df = pd.read_csv('md_stats.csv', index_col=0)\n",
    "particle_stat = \"/home/rathoddinesh/Bit Repos/Chess Seg/data/all_particle_stats.csv\"\n",
    "ps_df = pd.read_csv(particle_stat)\n",
    "# consider only cp_id and volume\n",
    "ps_df = ps_df[['cp_id', 'volume', 'cn']]\n",
    "# filter out cp_id with volume less than 100\n",
    "ps_df = ps_df[ps_df['volume'] > 100]\n",
    "\n",
    "df.head(), ps_df.head(), df.shape, ps_df.shape"
   ]
  },
  {
   "cell_type": "code",
   "execution_count": 31,
   "metadata": {},
   "outputs": [
    {
     "data": {
      "image/png": "[encoded data removed]",
      "text/plain": [
       "<Figure size 1080x360 with 3 Axes>"
      ]
     },
     "metadata": {
      "needs_background": "light"
     },
     "output_type": "display_data"
    }
   ],
   "source": [
    "cns = ps_df['cn']\n",
    "# histogram, percentiles and boxplot of cn\n",
    "fig, ax = plt.subplots(1, 3, figsize=(15, 5))\n",
    "ax[0].hist(cns, bins=100)\n",
    "ax[1].boxplot(cns)\n",
    "ax[2].plot(cns)\n",
    "plt.show()"
   ]
  },
  {
   "cell_type": "code",
   "execution_count": 32,
   "metadata": {},
   "outputs": [
    {
     "name": "stdout",
     "output_type": "stream",
     "text": [
      "0    float64\n",
      "1    float64\n",
      "2    float64\n",
      "3    float64\n",
      "4    float64\n",
      "5    float64\n",
      "6    float64\n",
      "7    float64\n",
      "8    float64\n",
      "dtype: object int64\n"
     ]
    },
    {
     "data": {
      "text/plain": [
       "(                 0          1          2         3         4         5  \\\n",
       " cp_id                                                                    \n",
       " 1228256  16.637768  11.250028   9.188921  8.221224  7.610717  7.078371   \n",
       " 3387614  17.310629  11.581908   9.747245  8.811118  7.914455  7.404092   \n",
       " 974929   17.314859  12.831037  10.770346  9.268545  8.224371  7.592460   \n",
       " 773595   16.587774  12.962443  10.936464  9.452271  8.776819  8.145662   \n",
       " 3742320  17.284975  12.997184  11.230856  9.877251  9.038872  8.458008   \n",
       " \n",
       "                 6         7         8  \n",
       " cp_id                                  \n",
       " 1228256  6.698675  6.380387  6.134868  \n",
       " 3387614  6.968686  6.604863  6.352037  \n",
       " 974929   7.084830  6.711290  6.441129  \n",
       " 773595   7.677483  7.313868  7.012781  \n",
       " 3742320  7.972470  7.635131  7.344588  ,\n",
       " (121, 9))"
      ]
     },
     "execution_count": 32,
     "metadata": {},
     "output_type": "execute_result"
    }
   ],
   "source": [
    "# filter out cp_id with cn less than 15\n",
    "ps_df = ps_df[ps_df['cn'] > 12]\n",
    "\n",
    "# name the index column\n",
    "df.index.name = 'cp_id'\n",
    "# index col contains grain_cpid.vtp\n",
    "df.index = df.index.str.replace('.vtp', '', regex=False)\n",
    "df.index = df.index.str.replace('grain_', '', regex=False)\n",
    "df.index = df.index.astype(int)\n",
    "# print column types including index\n",
    "print(df.dtypes, df.index.dtype)\n",
    "\n",
    "# consider only rows with cp_id in ps_df\n",
    "df = df[df.index.isin(ps_df['cp_id'])]\n",
    "df.head(), df.shape"
   ]
  },
  {
   "cell_type": "code",
   "execution_count": 33,
   "metadata": {},
   "outputs": [
    {
     "data": {
      "text/html": [
       "<div>\n",
       "<style scoped>\n",
       "    .dataframe tbody tr th:only-of-type {\n",
       "        vertical-align: middle;\n",
       "    }\n",
       "\n",
       "    .dataframe tbody tr th {\n",
       "        vertical-align: top;\n",
       "    }\n",
       "\n",
       "    .dataframe thead th {\n",
       "        text-align: right;\n",
       "    }\n",
       "</style>\n",
       "<table border=\"1\" class=\"dataframe\">\n",
       "  <thead>\n",
       "    <tr style=\"text-align: right;\">\n",
       "      <th></th>\n",
       "      <th>1</th>\n",
       "      <th>2</th>\n",
       "      <th>3</th>\n",
       "      <th>4</th>\n",
       "      <th>5</th>\n",
       "      <th>6</th>\n",
       "      <th>7</th>\n",
       "      <th>8</th>\n",
       "    </tr>\n",
       "    <tr>\n",
       "      <th>cp_id</th>\n",
       "      <th></th>\n",
       "      <th></th>\n",
       "      <th></th>\n",
       "      <th></th>\n",
       "      <th></th>\n",
       "      <th></th>\n",
       "      <th></th>\n",
       "      <th></th>\n",
       "    </tr>\n",
       "  </thead>\n",
       "  <tbody>\n",
       "    <tr>\n",
       "      <th>1228256</th>\n",
       "      <td>5.387740</td>\n",
       "      <td>7.448847</td>\n",
       "      <td>8.416543</td>\n",
       "      <td>9.027051</td>\n",
       "      <td>9.559397</td>\n",
       "      <td>9.939092</td>\n",
       "      <td>10.257381</td>\n",
       "      <td>10.502899</td>\n",
       "    </tr>\n",
       "    <tr>\n",
       "      <th>3387614</th>\n",
       "      <td>5.728721</td>\n",
       "      <td>7.563384</td>\n",
       "      <td>8.499511</td>\n",
       "      <td>9.396174</td>\n",
       "      <td>9.906537</td>\n",
       "      <td>10.341943</td>\n",
       "      <td>10.705766</td>\n",
       "      <td>10.958592</td>\n",
       "    </tr>\n",
       "    <tr>\n",
       "      <th>974929</th>\n",
       "      <td>4.483822</td>\n",
       "      <td>6.544513</td>\n",
       "      <td>8.046314</td>\n",
       "      <td>9.090488</td>\n",
       "      <td>9.722399</td>\n",
       "      <td>10.230028</td>\n",
       "      <td>10.603569</td>\n",
       "      <td>10.873729</td>\n",
       "    </tr>\n",
       "    <tr>\n",
       "      <th>773595</th>\n",
       "      <td>3.625331</td>\n",
       "      <td>5.651310</td>\n",
       "      <td>7.135503</td>\n",
       "      <td>7.810954</td>\n",
       "      <td>8.442112</td>\n",
       "      <td>8.910291</td>\n",
       "      <td>9.273906</td>\n",
       "      <td>9.574993</td>\n",
       "    </tr>\n",
       "    <tr>\n",
       "      <th>3742320</th>\n",
       "      <td>4.287791</td>\n",
       "      <td>6.054119</td>\n",
       "      <td>7.407724</td>\n",
       "      <td>8.246103</td>\n",
       "      <td>8.826967</td>\n",
       "      <td>9.312505</td>\n",
       "      <td>9.649844</td>\n",
       "      <td>9.940387</td>\n",
       "    </tr>\n",
       "  </tbody>\n",
       "</table>\n",
       "</div>"
      ],
      "text/plain": [
       "                1         2         3         4         5          6  \\\n",
       "cp_id                                                                  \n",
       "1228256  5.387740  7.448847  8.416543  9.027051  9.559397   9.939092   \n",
       "3387614  5.728721  7.563384  8.499511  9.396174  9.906537  10.341943   \n",
       "974929   4.483822  6.544513  8.046314  9.090488  9.722399  10.230028   \n",
       "773595   3.625331  5.651310  7.135503  7.810954  8.442112   8.910291   \n",
       "3742320  4.287791  6.054119  7.407724  8.246103  8.826967   9.312505   \n",
       "\n",
       "                 7          8  \n",
       "cp_id                          \n",
       "1228256  10.257381  10.502899  \n",
       "3387614  10.705766  10.958592  \n",
       "974929   10.603569  10.873729  \n",
       "773595    9.273906   9.574993  \n",
       "3742320   9.649844   9.940387  "
      ]
     },
     "execution_count": 33,
     "metadata": {},
     "output_type": "execute_result"
    }
   ],
   "source": [
    "# take abs diff of each column from first column\n",
    "df = df.sub(df.iloc[:, 0], axis=0).abs()\n",
    "# drop first column\n",
    "df = df.drop(df.columns[0], axis=1)\n",
    "df.head()"
   ]
  },
  {
   "attachments": {},
   "cell_type": "markdown",
   "metadata": {},
   "source": [
    "# Kmeans Clustering"
   ]
  },
  {
   "cell_type": "code",
   "execution_count": 34,
   "metadata": {},
   "outputs": [
    {
     "data": {
      "text/html": [
       "<div>\n",
       "<style scoped>\n",
       "    .dataframe tbody tr th:only-of-type {\n",
       "        vertical-align: middle;\n",
       "    }\n",
       "\n",
       "    .dataframe tbody tr th {\n",
       "        vertical-align: top;\n",
       "    }\n",
       "\n",
       "    .dataframe thead th {\n",
       "        text-align: right;\n",
       "    }\n",
       "</style>\n",
       "<table border=\"1\" class=\"dataframe\">\n",
       "  <thead>\n",
       "    <tr style=\"text-align: right;\">\n",
       "      <th></th>\n",
       "      <th>1</th>\n",
       "      <th>2</th>\n",
       "      <th>3</th>\n",
       "      <th>4</th>\n",
       "      <th>5</th>\n",
       "      <th>6</th>\n",
       "      <th>7</th>\n",
       "      <th>8</th>\n",
       "    </tr>\n",
       "  </thead>\n",
       "  <tbody>\n",
       "    <tr>\n",
       "      <th>0</th>\n",
       "      <td>5.387740</td>\n",
       "      <td>7.448847</td>\n",
       "      <td>8.416543</td>\n",
       "      <td>9.027051</td>\n",
       "      <td>9.559397</td>\n",
       "      <td>9.939092</td>\n",
       "      <td>10.257381</td>\n",
       "      <td>10.502899</td>\n",
       "    </tr>\n",
       "    <tr>\n",
       "      <th>1</th>\n",
       "      <td>5.728721</td>\n",
       "      <td>7.563384</td>\n",
       "      <td>8.499511</td>\n",
       "      <td>9.396174</td>\n",
       "      <td>9.906537</td>\n",
       "      <td>10.341943</td>\n",
       "      <td>10.705766</td>\n",
       "      <td>10.958592</td>\n",
       "    </tr>\n",
       "    <tr>\n",
       "      <th>2</th>\n",
       "      <td>4.483822</td>\n",
       "      <td>6.544513</td>\n",
       "      <td>8.046314</td>\n",
       "      <td>9.090488</td>\n",
       "      <td>9.722399</td>\n",
       "      <td>10.230028</td>\n",
       "      <td>10.603569</td>\n",
       "      <td>10.873729</td>\n",
       "    </tr>\n",
       "    <tr>\n",
       "      <th>3</th>\n",
       "      <td>3.625331</td>\n",
       "      <td>5.651310</td>\n",
       "      <td>7.135503</td>\n",
       "      <td>7.810954</td>\n",
       "      <td>8.442112</td>\n",
       "      <td>8.910291</td>\n",
       "      <td>9.273906</td>\n",
       "      <td>9.574993</td>\n",
       "    </tr>\n",
       "    <tr>\n",
       "      <th>4</th>\n",
       "      <td>4.287791</td>\n",
       "      <td>6.054119</td>\n",
       "      <td>7.407724</td>\n",
       "      <td>8.246103</td>\n",
       "      <td>8.826967</td>\n",
       "      <td>9.312505</td>\n",
       "      <td>9.649844</td>\n",
       "      <td>9.940387</td>\n",
       "    </tr>\n",
       "  </tbody>\n",
       "</table>\n",
       "</div>"
      ],
      "text/plain": [
       "          1         2         3         4         5          6          7  \\\n",
       "0  5.387740  7.448847  8.416543  9.027051  9.559397   9.939092  10.257381   \n",
       "1  5.728721  7.563384  8.499511  9.396174  9.906537  10.341943  10.705766   \n",
       "2  4.483822  6.544513  8.046314  9.090488  9.722399  10.230028  10.603569   \n",
       "3  3.625331  5.651310  7.135503  7.810954  8.442112   8.910291   9.273906   \n",
       "4  4.287791  6.054119  7.407724  8.246103  8.826967   9.312505   9.649844   \n",
       "\n",
       "           8  \n",
       "0  10.502899  \n",
       "1  10.958592  \n",
       "2  10.873729  \n",
       "3   9.574993  \n",
       "4   9.940387  "
      ]
     },
     "execution_count": 34,
     "metadata": {},
     "output_type": "execute_result"
    }
   ],
   "source": [
    "# df copy without index\n",
    "X = df.copy().reset_index(drop=True)\n",
    "# scale the data\n",
    "scaler = StandardScaler()\n",
    "X_scaled = scaler.fit_transform(X)\n",
    "\n",
    "X.head()"
   ]
  },
  {
   "cell_type": "code",
   "execution_count": 35,
   "metadata": {},
   "outputs": [
    {
     "data": {
      "text/plain": [
       "array([[ 1.49085423,  1.56866445,  1.44664001,  1.33467238,  1.31162722,\n",
       "         1.2694517 ,  1.24072646,  1.20809394],\n",
       "       [ 1.78743489,  1.65217668,  1.50286537,  1.57290127,  1.52835998,\n",
       "         1.51488136,  1.50844236,  1.4761437 ],\n",
       "       [ 0.7046394 ,  0.9092931 ,  1.19574289,  1.37561424,  1.4133954 ,\n",
       "         1.44669955,  1.44742385,  1.42622535],\n",
       "       [-0.04206431,  0.25803724,  0.57850551,  0.5498144 ,  0.61406316,\n",
       "         0.64267297,  0.65352613,  0.6622772 ],\n",
       "       [ 0.53413436,  0.55173477,  0.76298413,  0.8306555 ,  0.85434306,\n",
       "         0.88771442,  0.87798611,  0.87721049]])"
      ]
     },
     "execution_count": 35,
     "metadata": {},
     "output_type": "execute_result"
    }
   ],
   "source": [
    "X_scaled[:5]"
   ]
  },
  {
   "cell_type": "code",
   "execution_count": 36,
   "metadata": {},
   "outputs": [],
   "source": [
    "# kmeans\n",
    "kmeans = KMeans(n_clusters=10, random_state=0)\n",
    "kmeans.fit(X_scaled)\n",
    "# cluster labels\n",
    "labels = kmeans.labels_\n",
    "# cluster centers\n",
    "centers = kmeans.cluster_centers_"
   ]
  },
  {
   "cell_type": "code",
   "execution_count": 37,
   "metadata": {},
   "outputs": [
    {
     "data": {
      "text/html": [
       "<div>\n",
       "<style scoped>\n",
       "    .dataframe tbody tr th:only-of-type {\n",
       "        vertical-align: middle;\n",
       "    }\n",
       "\n",
       "    .dataframe tbody tr th {\n",
       "        vertical-align: top;\n",
       "    }\n",
       "\n",
       "    .dataframe thead th {\n",
       "        text-align: right;\n",
       "    }\n",
       "</style>\n",
       "<table border=\"1\" class=\"dataframe\">\n",
       "  <thead>\n",
       "    <tr style=\"text-align: right;\">\n",
       "      <th></th>\n",
       "      <th>1</th>\n",
       "      <th>2</th>\n",
       "      <th>3</th>\n",
       "      <th>4</th>\n",
       "      <th>5</th>\n",
       "      <th>6</th>\n",
       "      <th>7</th>\n",
       "      <th>8</th>\n",
       "      <th>cluster</th>\n",
       "    </tr>\n",
       "    <tr>\n",
       "      <th>cp_id</th>\n",
       "      <th></th>\n",
       "      <th></th>\n",
       "      <th></th>\n",
       "      <th></th>\n",
       "      <th></th>\n",
       "      <th></th>\n",
       "      <th></th>\n",
       "      <th></th>\n",
       "      <th></th>\n",
       "    </tr>\n",
       "  </thead>\n",
       "  <tbody>\n",
       "    <tr>\n",
       "      <th>1228256</th>\n",
       "      <td>5.387740</td>\n",
       "      <td>7.448847</td>\n",
       "      <td>8.416543</td>\n",
       "      <td>9.027051</td>\n",
       "      <td>9.559397</td>\n",
       "      <td>9.939092</td>\n",
       "      <td>10.257381</td>\n",
       "      <td>10.502899</td>\n",
       "      <td>1</td>\n",
       "    </tr>\n",
       "    <tr>\n",
       "      <th>3387614</th>\n",
       "      <td>5.728721</td>\n",
       "      <td>7.563384</td>\n",
       "      <td>8.499511</td>\n",
       "      <td>9.396174</td>\n",
       "      <td>9.906537</td>\n",
       "      <td>10.341943</td>\n",
       "      <td>10.705766</td>\n",
       "      <td>10.958592</td>\n",
       "      <td>1</td>\n",
       "    </tr>\n",
       "    <tr>\n",
       "      <th>974929</th>\n",
       "      <td>4.483822</td>\n",
       "      <td>6.544513</td>\n",
       "      <td>8.046314</td>\n",
       "      <td>9.090488</td>\n",
       "      <td>9.722399</td>\n",
       "      <td>10.230028</td>\n",
       "      <td>10.603569</td>\n",
       "      <td>10.873729</td>\n",
       "      <td>5</td>\n",
       "    </tr>\n",
       "    <tr>\n",
       "      <th>773595</th>\n",
       "      <td>3.625331</td>\n",
       "      <td>5.651310</td>\n",
       "      <td>7.135503</td>\n",
       "      <td>7.810954</td>\n",
       "      <td>8.442112</td>\n",
       "      <td>8.910291</td>\n",
       "      <td>9.273906</td>\n",
       "      <td>9.574993</td>\n",
       "      <td>2</td>\n",
       "    </tr>\n",
       "    <tr>\n",
       "      <th>3742320</th>\n",
       "      <td>4.287791</td>\n",
       "      <td>6.054119</td>\n",
       "      <td>7.407724</td>\n",
       "      <td>8.246103</td>\n",
       "      <td>8.826967</td>\n",
       "      <td>9.312505</td>\n",
       "      <td>9.649844</td>\n",
       "      <td>9.940387</td>\n",
       "      <td>5</td>\n",
       "    </tr>\n",
       "  </tbody>\n",
       "</table>\n",
       "</div>"
      ],
      "text/plain": [
       "                1         2         3         4         5          6  \\\n",
       "cp_id                                                                  \n",
       "1228256  5.387740  7.448847  8.416543  9.027051  9.559397   9.939092   \n",
       "3387614  5.728721  7.563384  8.499511  9.396174  9.906537  10.341943   \n",
       "974929   4.483822  6.544513  8.046314  9.090488  9.722399  10.230028   \n",
       "773595   3.625331  5.651310  7.135503  7.810954  8.442112   8.910291   \n",
       "3742320  4.287791  6.054119  7.407724  8.246103  8.826967   9.312505   \n",
       "\n",
       "                 7          8  cluster  \n",
       "cp_id                                   \n",
       "1228256  10.257381  10.502899        1  \n",
       "3387614  10.705766  10.958592        1  \n",
       "974929   10.603569  10.873729        5  \n",
       "773595    9.273906   9.574993        2  \n",
       "3742320   9.649844   9.940387        5  "
      ]
     },
     "execution_count": 37,
     "metadata": {},
     "output_type": "execute_result"
    }
   ],
   "source": [
    "# add cluster labels to df\n",
    "df['cluster'] = labels\n",
    "df.head()"
   ]
  },
  {
   "cell_type": "code",
   "execution_count": 38,
   "metadata": {},
   "outputs": [
    {
     "data": {
      "image/png": "[encoded data removed]",
      "text/plain": [
       "<Figure size 432x288 with 1 Axes>"
      ]
     },
     "metadata": {
      "needs_background": "light"
     },
     "output_type": "display_data"
    }
   ],
   "source": [
    "# plot histogram of cluster sizes\n",
    "df['cluster'].hist()\n",
    "plt.show()"
   ]
  },
  {
   "attachments": {},
   "cell_type": "markdown",
   "metadata": {},
   "source": [
    "* 0 - particles with few undersegmented particles\n",
    "* 1 - particles with elongated in 1 direction with few undersegmented particles\n",
    "* 2 - rod like particles\n",
    "* 3 - particles with few undersegmented particles\n",
    "* 4 - Bar like particles\n",
    "* 5 - thin particles(along one dimension)\n",
    "* 6 - Bigger particles with undersegmentation\n",
    "* 7 - particles that are elongated in 1 direction\n",
    "* 8 - few undersegmented particles\n",
    "* 9 - big particles with few undersegmentation"
   ]
  },
  {
   "cell_type": "code",
   "execution_count": 49,
   "metadata": {},
   "outputs": [
    {
     "data": {
      "text/plain": [
       "(                1         2         3         4         5          6  \\\n",
       " cp_id                                                                  \n",
       " 974929   4.483822  6.544513  8.046314  9.090488  9.722399  10.230028   \n",
       " 3742320  4.287791  6.054119  7.407724  8.246103  8.826967   9.312505   \n",
       " 3345838  4.678762  6.637416  7.912837  8.652755  9.276235   9.798206   \n",
       " 988677   5.119516  6.552109  7.667694  8.507797  8.953431   9.380821   \n",
       " 3401340  4.734274  6.623406  8.020365  8.813484  9.403807   9.874917   \n",
       " 1353112  5.394807  6.892458  7.794063  8.512259  9.025348   9.426316   \n",
       " 3052843  4.924840  6.742245  7.970035  8.544638  8.990760   9.415952   \n",
       " 3326446  4.589334  6.294457  7.438648  8.218075  8.856561   9.271617   \n",
       " 1567567  4.849178  6.363008  7.503231  8.155753  8.688606   9.065012   \n",
       " 3614110  4.643481  6.421632  7.623525  8.518389  9.088083   9.549084   \n",
       " 1688534  4.946666  6.368410  7.587714  8.296739  8.847350   9.211731   \n",
       " 2210797  4.437725  6.393282  7.581675  8.337735  8.890968   9.388009   \n",
       " 2332899  5.093840  6.739832  7.735768  8.378258  8.917287   9.350718   \n",
       " 2311476  4.166124  6.286486  7.454557  8.133654  8.772663   9.337303   \n",
       " \n",
       "                  7          8  cluster  \n",
       " cp_id                                   \n",
       " 974929   10.603569  10.873729        5  \n",
       " 3742320   9.649844   9.940387        5  \n",
       " 3345838  10.188123  10.519346        5  \n",
       " 988677    9.781466  10.037885        5  \n",
       " 3401340  10.194297  10.494808        5  \n",
       " 1353112   9.783670  10.031583        5  \n",
       " 3052843   9.678292   9.908019        5  \n",
       " 3326446   9.650977   9.964484        5  \n",
       " 1567567   9.398427   9.696283        5  \n",
       " 3614110   9.891933  10.202369        5  \n",
       " 1688534   9.516807   9.776724        5  \n",
       " 2210797   9.775021  10.064409        5  \n",
       " 2332899   9.715952  10.004944        5  \n",
       " 2311476   9.710053  10.012077        5  ,\n",
       " (14, 9))"
      ]
     },
     "execution_count": 49,
     "metadata": {},
     "output_type": "execute_result"
    }
   ],
   "source": [
    "cluster_2 = df[df['cluster'] == 5]\n",
    "cluster_2, cluster_2.shape"
   ]
  },
  {
   "cell_type": "code",
   "execution_count": null,
   "metadata": {},
   "outputs": [],
   "source": []
  }
 ],
 "metadata": {
  "kernelspec": {
   "display_name": "Python 3",
   "language": "python",
   "name": "python3"
  },
  "language_info": {
   "codemirror_mode": {
    "name": "ipython",
    "version": 3
   },
   "file_extension": ".py",
   "mimetype": "text/x-python",
   "name": "python",
   "nbconvert_exporter": "python",
   "pygments_lexer": "ipython3",
   "version": "3.8.10"
  },
  "orig_nbformat": 4
 },
 "nbformat": 4,
 "nbformat_minor": 2
}
