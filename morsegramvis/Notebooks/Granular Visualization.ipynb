{
 "cells": [
  {
   "cell_type": "code",
   "execution_count": 1,
   "id": "21686388",
   "metadata": {},
   "outputs": [
    {
     "name": "stdout",
     "output_type": "stream",
     "text": [
      "SimpleITK Version: 2.1.1.2 (ITK 5.2)\n",
      "Compiled: Apr 11 2022 23:40:09\n",
      "\n"
     ]
    }
   ],
   "source": [
    "import SimpleITK as sitk\n",
    "from ipywidgets import interact\n",
    "from scipy import io\n",
    "import numpy as np\n",
    "import gui\n",
    "\n",
    "print(sitk.Version())"
   ]
  },
  {
   "cell_type": "code",
   "execution_count": 2,
   "id": "ac54e268",
   "metadata": {},
   "outputs": [],
   "source": [
    "# INPUT_FILENAME = \"/home/rathoddinesh/Git Repos/Granular-Material-Packing-Analysis/Test Data/Steel_Deposition_181_176_251_downsampled.mhd\"\n",
    "INPUT_FILENAME = \"/home/rathoddinesh/Downloads/Dry_Deposition.mat\""
   ]
  },
  {
   "cell_type": "code",
   "execution_count": 3,
   "id": "6a004c5a",
   "metadata": {},
   "outputs": [],
   "source": [
    "# image_viewer = sitk.ImageViewer()\n",
    "# image_viewer.SetApplication('/home/rathoddinesh/Fiji.app/ImageJ-linux64')"
   ]
  },
  {
   "cell_type": "code",
   "execution_count": 3,
   "id": "2ff0ffb7",
   "metadata": {},
   "outputs": [
    {
     "name": "stdout",
     "output_type": "stream",
     "text": [
      "reading mat file\n",
      "Original Shape :  (824, 804, 1004)\n",
      "New Shape :  (824, 804, 1004)\n",
      "reading done\n"
     ]
    }
   ],
   "source": [
    "file_ext = INPUT_FILENAME.split(\".\")[-1]\n",
    "if file_ext == \"mat\":\n",
    "    print(\"reading mat file\")\n",
    "    f = io.loadmat(INPUT_FILENAME)\n",
    "    data = f.get('volm')\n",
    "    npa = np.array(data)\n",
    "elif file_ext == \"mhd\":\n",
    "    print(\"reading raw file\")\n",
    "    file_reader = sitk.ImageFileReader()\n",
    "    file_reader.SetFileName(INPUT_FILENAME)\n",
    "    file_reader.SetImageIO('')\n",
    "    image = file_reader.Execute()\n",
    "    npa = sitk.GetArrayFromImage(image)\n",
    "print(\"Original Shape : \", npa.shape)\n",
    "# npa = np.transpose(npa, (2, 1, 0))\n",
    "print(\"New Shape : \", npa.shape)\n",
    "new_image = sitk.GetImageFromArray(npa)\n",
    "# image_viewer.Execute(new_image)\n",
    "print(\"reading done\")"
   ]
  },
  {
   "cell_type": "code",
   "execution_count": 5,
   "id": "e969a630",
   "metadata": {},
   "outputs": [
    {
     "data": {
      "image/png": "[encoded data removed]",
      "text/plain": [
       "<Figure size 432x288 with 1 Axes>"
      ]
     },
     "metadata": {
      "needs_background": "light"
     },
     "output_type": "display_data"
    }
   ],
   "source": [
    "%matplotlib inline\n",
    "\n",
    "import matplotlib.pyplot as plt\n",
    "\n",
    "plt.figure()\n",
    "plt.hist(sitk.GetArrayViewFromImage(new_image).flatten(), bins=100)\n",
    "plt.show()"
   ]
  },
  {
   "cell_type": "code",
   "execution_count": 6,
   "id": "2b98e960",
   "metadata": {},
   "outputs": [],
   "source": [
    "# n_npa = (npa * 255.0)/npa.max()\n",
    "# n_new_image = sitk.GetImageFromArray(n_npa)\n",
    "# # image_viewer.Execute(n_new_image)\n",
    "# # image_viewer.Execute(new_image)\n",
    "# plt.figure()\n",
    "# plt.hist(sitk.GetArrayViewFromImage(n_new_image).flatten(), bins=100)\n",
    "# plt.show()"
   ]
  },
  {
   "cell_type": "code",
   "execution_count": 7,
   "id": "52e2f87f",
   "metadata": {},
   "outputs": [],
   "source": [
    "# new_image = n_new_image"
   ]
  },
  {
   "cell_type": "code",
   "execution_count": 8,
   "id": "d4969de7",
   "metadata": {},
   "outputs": [
    {
     "name": "stdout",
     "output_type": "stream",
     "text": [
      "Otsu Threshold Computed\n",
      "33907.140625\n",
      "Triangle Threshold Computed\n",
      "19221.255859375\n",
      "Huang Threshold Computed\n",
      "33190.79296875\n",
      "MaxEntropy Threshold Computed\n",
      "30204.830078125\n"
     ]
    }
   ],
   "source": [
    "threshold_filters = {'Otsu': sitk.OtsuThresholdImageFilter(),\n",
    "                     'Triangle' : sitk.TriangleThresholdImageFilter(),\n",
    "                     'Huang' : sitk.HuangThresholdImageFilter(),\n",
    "                     'MaxEntropy' : sitk.MaximumEntropyThresholdImageFilter()}\n",
    "\n",
    "thresholds = []\n",
    "\n",
    "for k, v in threshold_filters.items():\n",
    "    print(k + \" Threshold Computed\")\n",
    "    v.Execute(new_image)\n",
    "    thresholds.append(v.GetThreshold())\n",
    "    print(thresholds[-1])"
   ]
  },
  {
   "cell_type": "code",
   "execution_count": 9,
   "id": "39d23fcb",
   "metadata": {},
   "outputs": [],
   "source": [
    "def threshold_based_crop_and_bg_median(image):\n",
    "    '''\n",
    "    Use Otsu's threshold estimator to separate background and foreground. In medical imaging the background is\n",
    "    usually air. Then crop the image using the foreground's axis aligned bounding box and compute the background \n",
    "    median intensity.\n",
    "    Args:\n",
    "        image (SimpleITK image): An image where the anatomy and background intensities form a bi-modal distribution\n",
    "                                 (the assumption underlying Otsu's method.)\n",
    "    Return:\n",
    "        Cropped image based on foreground's axis aligned bounding box.\n",
    "        Background median intensity value.\n",
    "    '''\n",
    "    # Set pixels that are in [min_intensity,otsu_threshold] to inside_value, values above otsu_threshold are\n",
    "    # set to outside_value. The anatomy has higher intensity values than the background, so it is outside.\n",
    "    inside_value = 0\n",
    "    outside_value = 255\n",
    "    bin_image = sitk.OtsuThreshold(image, inside_value, outside_value)\n",
    "\n",
    "    # Get the median background intensity\n",
    "    label_intensity_stats_filter = sitk.LabelIntensityStatisticsImageFilter()\n",
    "    label_intensity_stats_filter.SetBackgroundValue(outside_value)\n",
    "    label_intensity_stats_filter.Execute(bin_image,image)\n",
    "    bg_median = label_intensity_stats_filter.GetMedian(inside_value)\n",
    "    \n",
    "    # Get the bounding box of the anatomy\n",
    "    label_shape_filter = sitk.LabelShapeStatisticsImageFilter()    \n",
    "    label_shape_filter.Execute(bin_image)\n",
    "    bounding_box = label_shape_filter.GetBoundingBox(outside_value)\n",
    "    # The bounding box's first \"dim\" entries are the starting index and last \"dim\" entries the size\n",
    "    return bg_median, sitk.RegionOfInterest(image, bounding_box[int(len(bounding_box)/2):], bounding_box[0:int(len(bounding_box)/2)]), bin_image\n",
    "\n",
    "bg_medians, modified_data, bin_image = threshold_based_crop_and_bg_median(new_image)"
   ]
  },
  {
   "cell_type": "code",
   "execution_count": 10,
   "id": "df299928",
   "metadata": {
    "scrolled": false
   },
   "outputs": [
    {
     "name": "stdout",
     "output_type": "stream",
     "text": [
      "Background Median intensity value :  16474.71875\n"
     ]
    }
   ],
   "source": [
    "print(\"Background Median intensity value : \", bg_medians)\n",
    "\n",
    "# image_viewer.Execute(modified_data)\n",
    "# image_viewer.Execute(new_image)\n",
    "# image_viewer.Execute(bin_image)"
   ]
  },
  {
   "cell_type": "code",
   "execution_count": 11,
   "id": "c8551c21",
   "metadata": {},
   "outputs": [
    {
     "data": {
      "text/plain": [
       "<Figure size 432x288 with 0 Axes>"
      ]
     },
     "metadata": {},
     "output_type": "display_data"
    },
    {
     "data": {
      "image/png": "[encoded data removed]",
      "text/plain": [
       "<Figure size 432x288 with 2 Axes>"
      ]
     },
     "metadata": {
      "needs_background": "light"
     },
     "output_type": "display_data"
    }
   ],
   "source": [
    "plt.figure()\n",
    "# Display the image slice from the middle of the stack, z axis\n",
    "Z = [10, 100]\n",
    "f, axarr = plt.subplots(1, len(Z))\n",
    "for i, z in enumerate(Z):\n",
    "    axarr[i].imshow(sitk.GetArrayViewFromImage(bin_image)[z,:,:], cmap=plt.cm.Greys_r)\n",
    "    axarr[i].set_title(\"Z = \" + str(z))\n",
    "    axarr[i].axis('off')"
   ]
  },
  {
   "cell_type": "code",
   "execution_count": 12,
   "id": "ca3e03f9",
   "metadata": {},
   "outputs": [],
   "source": [
    "# gaussian = sitk.SmoothingRecursiveGaussianImageFilter()\n",
    "# gaussian.SetSigma(1)\n",
    "# g_image = gaussian.Execute(modified_data)\n",
    "\n",
    "# bif = sitk.BilateralImageFilter()\n",
    "# bif.SetDomainSigma(5.0)\n",
    "# bif.SetRangeSigma(10.0)\n",
    "# g_image = bif.Execute(modified_data)\n",
    "# plt.figure()\n",
    "# # Display the image slice from the middle of the stack, z axis\n",
    "# f, axarr = plt.subplots(1, 2)\n",
    "# slice_no = 100\n",
    "# axarr[0].imshow(sitk.GetArrayViewFromImage(modified_data)[slice_no,:,:], cmap=plt.cm.Greys_r)\n",
    "# axarr[0].set_title(\"Z = \" + str(0))\n",
    "# axarr[0].axis('off')\n",
    "# axarr[1].imshow(sitk.GetArrayViewFromImage(g_image)[slice_no,:,:], cmap=plt.cm.Greys_r)\n",
    "# axarr[1].set_title(\"Z = \" + str(1))\n",
    "# axarr[1].axis('off')\n",
    "\n",
    "# modified_data = g_image"
   ]
  },
  {
   "cell_type": "code",
   "execution_count": 13,
   "id": "efac2486",
   "metadata": {},
   "outputs": [
    {
     "name": "stdout",
     "output_type": "stream",
     "text": [
      "Using Threshold :  33907.140625\n",
      "Total points :  6627903\n",
      "Total Inside points :  3188792\n",
      "Max Val :  61123.59375\n"
     ]
    },
    {
     "data": {
      "image/png": "[encoded data removed]",
      "text/plain": [
       "<Figure size 432x288 with 1 Axes>"
      ]
     },
     "metadata": {
      "needs_background": "light"
     },
     "output_type": "display_data"
    }
   ],
   "source": [
    "print(\"Using Threshold : \", thresholds[0])\n",
    "dist_image_arr = sitk.GetArrayFromImage(modified_data) - thresholds[0]\n",
    "dist_image = sitk.GetImageFromArray(dist_image_arr)\n",
    "\n",
    "npa = sitk.GetArrayFromImage(modified_data)\n",
    "\n",
    "total_num_points = (npa > 0).sum()\n",
    "inside_num_points = (npa > thresholds[0]).sum()\n",
    "max_dens_val = np.max(npa)\n",
    "print(\"Total points : \", total_num_points)\n",
    "print(\"Total Inside points : \", inside_num_points)\n",
    "print(\"Max Val : \", max_dens_val)\n",
    "plt.figure()\n",
    "plt.hist(sitk.GetArrayViewFromImage(dist_image).flatten(), bins=100)\n",
    "plt.show()"
   ]
  },
  {
   "cell_type": "code",
   "execution_count": 14,
   "id": "fa0a323c",
   "metadata": {},
   "outputs": [],
   "source": [
    "# image_viewer.Execute(modified_data)\n",
    "# image_viewer.Execute(new_image)"
   ]
  },
  {
   "cell_type": "code",
   "execution_count": 15,
   "id": "2af3f0c0",
   "metadata": {},
   "outputs": [],
   "source": [
    "lambda_1 = total_num_points * max_dens_val / (inside_num_points * (max_dens_val - thresholds[0]))\n",
    "lambda_2 = total_num_points * max_dens_val / ((total_num_points - inside_num_points) * (thresholds[0]))"
   ]
  },
  {
   "cell_type": "code",
   "execution_count": 16,
   "id": "72f4f990",
   "metadata": {},
   "outputs": [
    {
     "name": "stdout",
     "output_type": "stream",
     "text": [
      "Commencing Chan and  Vese with Lambda 1 and Lambda 2 as follows:\n",
      "Lambda 1 :  4.667961933198245\n",
      "Lambda 2 :  3.474142785329728\n",
      "Boundary Extracted.\n"
     ]
    }
   ],
   "source": [
    "from skimage.segmentation import morphological_chan_vese\n",
    "print('Commencing Chan and  Vese with Lambda 1 and Lambda 2 as follows:')\n",
    "print(\"Lambda 1 : \", lambda_1)\n",
    "print(\"Lambda 2 : \", lambda_2)\n",
    "ls = morphological_chan_vese(npa, 20, init_level_set=dist_image_arr, lambda1=abs(lambda_1),lambda2=abs(lambda_2),smoothing=0)\n",
    "print('Boundary Extracted.')"
   ]
  },
  {
   "cell_type": "code",
   "execution_count": 17,
   "id": "9d4b61ff",
   "metadata": {},
   "outputs": [
    {
     "name": "stdout",
     "output_type": "stream",
     "text": [
      "Commencing Distance Field Computation\n",
      "Distance Field Computed\n"
     ]
    }
   ],
   "source": [
    "import itk\n",
    "\n",
    "print('Commencing Distance Field Computation')\n",
    "itk_image = itk.GetImageFromArray(np.array(ls).astype(np.float32))\n",
    "\n",
    "antialiasfilter = itk.AntiAliasBinaryImageFilter.New(itk_image)\n",
    "antialiasfilter.SetInput(itk_image)\n",
    "antialiasfilter.SetMaximumRMSError(0.01)\n",
    "antialiasfilter.SetNumberOfIterations(30)\n",
    "antialiasfilter.Update()\n",
    "antialias_image = antialiasfilter.GetOutput()\n",
    "\n",
    "isoContourFilter = itk.IsoContourDistanceImageFilter.New(antialias_image)\n",
    "isoContourFilter.SetLevelSetValue(0.5)\n",
    "isoContourFilter.SetFarValue(1000) #make sure this is greater than your max distance value for the chamfer filter\n",
    "isoContourFilter.SetInput(antialias_image)\n",
    "isoContourFilter.Update()\n",
    "isoContour_image = isoContourFilter.GetOutput()\n",
    "\n",
    "chamferFilter = itk.FastChamferDistanceImageFilter.New(isoContour_image)\n",
    "chamferFilter.SetMaximumDistance(50.0)\n",
    "chamferFilter.Update()\n",
    "chamferFilter.SetInput(isoContour_image)\n",
    "chamferFilter.Update()\n",
    "chamf_image = chamferFilter.GetOutput()\n",
    "chamf_arr = itk.GetArrayFromImage(chamf_image)\n",
    "dist_image = sitk.GetImageFromArray(chamf_arr)\n",
    "print('Distance Field Computed')"
   ]
  },
  {
   "cell_type": "code",
   "execution_count": 18,
   "id": "93f90cfc",
   "metadata": {},
   "outputs": [
    {
     "name": "stdout",
     "output_type": "stream",
     "text": [
      "Writing File\n",
      "File Written\n"
     ]
    }
   ],
   "source": [
    "import os\n",
    "\n",
    "print('Writing File')\n",
    "\n",
    "raw_writer = sitk.ImageFileWriter()\n",
    "output_path_name = 'Outputs/'\n",
    "\n",
    "if not os.path.exists(output_path_name):\n",
    "    os.makedirs(output_path_name)\n",
    "\n",
    "raw_writer.SetFileName(output_path_name + 'chamf_distance_Steel_2' + '.mhd')\n",
    "raw_writer.Execute(dist_image)\n",
    "\n",
    "print('File Written')"
   ]
  },
  {
   "cell_type": "code",
   "execution_count": null,
   "id": "0f2abf04",
   "metadata": {},
   "outputs": [],
   "source": []
  }
 ],
 "metadata": {
  "kernelspec": {
   "display_name": "Python 3 (ipykernel)",
   "language": "python",
   "name": "python3"
  },
  "language_info": {
   "codemirror_mode": {
    "name": "ipython",
    "version": 3
   },
   "file_extension": ".py",
   "mimetype": "text/x-python",
   "name": "python",
   "nbconvert_exporter": "python",
   "pygments_lexer": "ipython3",
   "version": "3.8.10"
  },
  "vscode": {
   "interpreter": {
    "hash": "767d51c1340bd893661ea55ea3124f6de3c7a262a8b4abca0554b478b1e2ff90"
   }
  }
 },
 "nbformat": 4,
 "nbformat_minor": 5
}
